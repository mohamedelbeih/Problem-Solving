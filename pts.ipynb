{
 "cells": [
  {
   "cell_type": "code",
   "execution_count": 31,
   "metadata": {},
   "outputs": [],
   "source": [
    "import itertools as it\n",
    "import math as m\n",
    "import numpy as np"
   ]
  },
  {
   "cell_type": "code",
   "execution_count": 2,
   "metadata": {},
   "outputs": [],
   "source": [
    "red_pts = [(1,-4),(-3,1),(3,3),(5,-1),(14,-8),(12,3),(8,-9),(-17,8),(0,17),(-2,20),(12,20),(9,16)]"
   ]
  },
  {
   "cell_type": "code",
   "execution_count": 3,
   "metadata": {},
   "outputs": [],
   "source": [
    "blue_pts = [(4,3),(0,0),(12,7),(14,-9),(5,5),(7,28),(14,21),(4,-12),(27,5)]"
   ]
  },
  {
   "cell_type": "code",
   "execution_count": 49,
   "metadata": {},
   "outputs": [
    {
     "name": "stdout",
     "output_type": "stream",
     "text": [
      "[((1, -4), (-3, 1), (3, 3)), ((1, -4), (-3, 1), (5, -1)), ((1, -4), (-3, 1), (14, -8)), ((1, -4), (-3, 1), (12, 3))]\n"
     ]
    }
   ],
   "source": [
    "combs = it.combinations(red_pts,3)\n",
    "combs = [z for z in combs]\n",
    "print(combs[0:4])"
   ]
  },
  {
   "cell_type": "code",
   "execution_count": 50,
   "metadata": {},
   "outputs": [
    {
     "data": {
      "text/plain": [
       "220"
      ]
     },
     "execution_count": 50,
     "metadata": {},
     "output_type": "execute_result"
    }
   ],
   "source": [
    "len(combs)"
   ]
  },
  {
   "cell_type": "code",
   "execution_count": 51,
   "metadata": {},
   "outputs": [
    {
     "name": "stdout",
     "output_type": "stream",
     "text": [
      "[134, 176, 233, 328]\n"
     ]
    }
   ],
   "source": [
    "angles_sum_around_point = []\n",
    "for i in range(len(blue_pts)):\n",
    "    for g in range(len(combs)):\n",
    "        V1 = [(combs[g][0][0]-blue_pts[i][0]),((combs[g][0][1]-blue_pts[i][1]))]\n",
    "        V2 = [(combs[g][1][0]-blue_pts[i][0]),((combs[g][1][1]-blue_pts[i][1]))]\n",
    "        V3 = [(combs[g][2][0]-blue_pts[i][0]),((combs[g][2][1]-blue_pts[i][1]))]\n",
    "        ang1 = (m.acos((V1[0]*V2[0]+V1[1]*V2[1])/((m.sqrt(V1[0]**2+V1[1]**2))*(m.sqrt(V2[0]**2+V2[1]**2)))))*180*7/22\n",
    "        ang2 = (m.acos((V2[0]*V3[0]+V2[1]*V3[1])/((m.sqrt(V2[0]**2+V2[1]**2))*(m.sqrt(V3[0]**2+V3[1]**2)))))*180*7/22\n",
    "        ang3 = (m.acos((V3[0]*V1[0]+V3[1]*V1[1])/((m.sqrt(V3[0]**2+V3[1]**2))*(m.sqrt(V1[0]**2+V1[1]**2)))))*180*7/22\n",
    "        angles_sum = round(ang1+ang2+ang3)\n",
    "        angles_sum_around_point.append(angles_sum)\n",
    "            \n",
    "print(angles_sum_around_point[0:4])\n",
    "    "
   ]
  },
  {
   "cell_type": "code",
   "execution_count": 6,
   "metadata": {},
   "outputs": [
    {
     "data": {
      "text/plain": [
       "1980"
      ]
     },
     "execution_count": 6,
     "metadata": {},
     "output_type": "execute_result"
    }
   ],
   "source": [
    "len(angles_sum_around_point)"
   ]
  },
  {
   "cell_type": "code",
   "execution_count": 7,
   "metadata": {},
   "outputs": [
    {
     "data": {
      "text/plain": [
       "1980"
      ]
     },
     "execution_count": 7,
     "metadata": {},
     "output_type": "execute_result"
    }
   ],
   "source": [
    "len(combs)*len(blue_pts)"
   ]
  },
  {
   "cell_type": "code",
   "execution_count": 8,
   "metadata": {},
   "outputs": [],
   "source": [
    "excluded_triangles = [x for x in angles_sum_around_point if x == 360]"
   ]
  },
  {
   "cell_type": "code",
   "execution_count": 9,
   "metadata": {},
   "outputs": [
    {
     "name": "stdout",
     "output_type": "stream",
     "text": [
      "all triangles of red virtices =  220\n",
      "all triangles of red virtices have blue pts inside =  202\n",
      "all triangles of red virtices have no blue pts inside =  18\n"
     ]
    }
   ],
   "source": [
    "num_of_triangles = len(combs)-len(excluded_triangles)\n",
    "print('all triangles of red virtices = ',len(combs))\n",
    "print('all triangles of red virtices have blue pts inside = ',len(excluded_triangles))\n",
    "print('all triangles of red virtices have no blue pts inside = ',num_of_triangles)"
   ]
  }
 ],
 "metadata": {
  "kernelspec": {
   "display_name": "Python 3",
   "language": "python",
   "name": "python3"
  },
  "language_info": {
   "codemirror_mode": {
    "name": "ipython",
    "version": 3
   },
   "file_extension": ".py",
   "mimetype": "text/x-python",
   "name": "python",
   "nbconvert_exporter": "python",
   "pygments_lexer": "ipython3",
   "version": "3.7.10"
  }
 },
 "nbformat": 4,
 "nbformat_minor": 4
}
